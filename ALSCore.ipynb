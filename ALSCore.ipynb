{
 "cells": [
  {
   "cell_type": "markdown",
   "source": [
    "# set up packages"
   ],
   "metadata": {
    "collapsed": false
   }
  },
  {
   "cell_type": "code",
   "execution_count": 13,
   "metadata": {
    "collapsed": true
   },
   "outputs": [],
   "source": [
    "# load packages\n",
    "import numpy as np\n",
    "import pandas as pd\n",
    "import os\n",
    "os.environ[\"PYSPARK_PYTHON\"] = \"python3\""
   ]
  },
  {
   "cell_type": "code",
   "execution_count": 14,
   "outputs": [],
   "source": [
    "from pyspark.sql import SparkSession\n",
    "spark = SparkSession \\\n",
    "    .builder \\\n",
    "    .appName(\"moive analysis\") \\\n",
    "    .config(\"spark.some.config.option\", \"some-value\") \\\n",
    "    .getOrCreate()"
   ],
   "metadata": {
    "collapsed": false,
    "pycharm": {
     "name": "#%%\n"
    }
   }
  },
  {
   "cell_type": "code",
   "execution_count": 15,
   "outputs": [],
   "source": [
    "location = \"D:/py_movie_recommendation_system/data/\"\n",
    "movies_df = spark.read.load(location+\"movies.csv\", format='csv', header = True)\n",
    "ratings_df = spark.read.load(location+\"ratings.csv\", format='csv', header = True)\n",
    "links_df = spark.read.load(location+\"links.csv\", format='csv', header = True)\n",
    "tags_df = spark.read.load(location+\"tags.csv\", format='csv', header = True)"
   ],
   "metadata": {
    "collapsed": false,
    "pycharm": {
     "name": "#%%\n"
    }
   }
  },
  {
   "cell_type": "markdown",
   "source": [
    "# data preprocessing"
   ],
   "metadata": {
    "collapsed": false,
    "pycharm": {
     "name": "#%% md\n"
    }
   }
  },
  {
   "cell_type": "code",
   "execution_count": 16,
   "outputs": [],
   "source": [
    "# drop useless column\n",
    "movie_ratings=ratings_df.drop('timestamp')"
   ],
   "metadata": {
    "collapsed": false,
    "pycharm": {
     "name": "#%%\n"
    }
   }
  },
  {
   "cell_type": "code",
   "execution_count": 17,
   "outputs": [],
   "source": [
    "# Data type convert\n",
    "from pyspark.sql.types import IntegerType, FloatType\n",
    "movie_ratings = movie_ratings.withColumn(\"userId\", movie_ratings[\"userId\"].cast(IntegerType()))\n",
    "movie_ratings = movie_ratings.withColumn(\"movieId\", movie_ratings[\"movieId\"].cast(IntegerType()))\n",
    "movie_ratings = movie_ratings.withColumn(\"rating\", movie_ratings[\"rating\"].cast(FloatType()))"
   ],
   "metadata": {
    "collapsed": false,
    "pycharm": {
     "name": "#%%\n"
    }
   }
  },
  {
   "cell_type": "code",
   "execution_count": 18,
   "outputs": [
    {
     "name": "stdout",
     "output_type": "stream",
     "text": [
      "+------+-------+------+\n",
      "|userId|movieId|rating|\n",
      "+------+-------+------+\n",
      "|     1|      1|   4.0|\n",
      "|     1|      3|   4.0|\n",
      "|     1|      6|   4.0|\n",
      "|     1|     47|   5.0|\n",
      "|     1|     50|   5.0|\n",
      "|     1|     70|   3.0|\n",
      "|     1|    101|   5.0|\n",
      "|     1|    110|   4.0|\n",
      "|     1|    151|   5.0|\n",
      "|     1|    157|   5.0|\n",
      "|     1|    163|   5.0|\n",
      "|     1|    216|   5.0|\n",
      "|     1|    223|   3.0|\n",
      "|     1|    231|   5.0|\n",
      "|     1|    235|   4.0|\n",
      "|     1|    260|   5.0|\n",
      "|     1|    296|   3.0|\n",
      "|     1|    316|   3.0|\n",
      "|     1|    333|   5.0|\n",
      "|     1|    349|   4.0|\n",
      "+------+-------+------+\n",
      "only showing top 20 rows\n",
      "\n"
     ]
    }
   ],
   "source": [
    "movie_ratings.show()"
   ],
   "metadata": {
    "collapsed": false,
    "pycharm": {
     "name": "#%%\n"
    }
   }
  },
  {
   "cell_type": "markdown",
   "source": [
    "# train test split"
   ],
   "metadata": {
    "collapsed": false,
    "pycharm": {
     "name": "#%% md\n"
    }
   }
  },
  {
   "cell_type": "code",
   "execution_count": 19,
   "outputs": [],
   "source": [
    "# import package\n",
    "from pyspark.ml.evaluation import RegressionEvaluator\n",
    "from pyspark.ml.recommendation import ALS\n",
    "from pyspark.ml.tuning import CrossValidator,ParamGridBuilder"
   ],
   "metadata": {
    "collapsed": false,
    "pycharm": {
     "name": "#%%\n"
    }
   }
  },
  {
   "cell_type": "code",
   "execution_count": 20,
   "outputs": [],
   "source": [
    "# Create test and train set\n",
    "(training,test) = movie_ratings.randomSplit([0.8,0.2])"
   ],
   "metadata": {
    "collapsed": false,
    "pycharm": {
     "name": "#%%\n"
    }
   }
  },
  {
   "cell_type": "markdown",
   "source": [
    "# tune model"
   ],
   "metadata": {
    "collapsed": false,
    "pycharm": {
     "name": "#%% md\n"
    }
   }
  },
  {
   "cell_type": "code",
   "execution_count": 21,
   "outputs": [],
   "source": [
    "# Create ALS model\n",
    "model_als = ALS(userCol=\"userId\", itemCol=\"movieId\", ratingCol=\"rating\", coldStartStrategy=\"drop\", seed=202112)"
   ],
   "metadata": {
    "collapsed": false,
    "pycharm": {
     "name": "#%%\n"
    }
   }
  },
  {
   "cell_type": "code",
   "execution_count": 22,
   "outputs": [],
   "source": [
    "# Define evaluator as RMSE\n",
    "evaluator = RegressionEvaluator(metricName=\"rmse\", labelCol=\"rating\", predictionCol=\"prediction\")"
   ],
   "metadata": {
    "collapsed": false,
    "pycharm": {
     "name": "#%%\n"
    }
   }
  },
  {
   "cell_type": "code",
   "execution_count": 23,
   "outputs": [],
   "source": [
    "# Tune model using ParamGridBuilder\n",
    "params = ParamGridBuilder().addGrid(model_als.maxIter, [3, 5, 10]).addGrid(model_als.regParam, [0.1, 0.01, 0.001]).addGrid(model_als.rank, [5, 10, 15]).addGrid(model_als.alpha, [0.1, 0.01, 0.001]).build()\n",
    "\n",
    "# Build Cross validation\n",
    "cv_creator=CrossValidator(estimator=model_als,estimatorParamMaps=params,evaluator=evaluator,numFolds=4,seed=202112)\n",
    "\n",
    "#Fit ALS model to training data\n",
    "cv_model=cv_creator.fit(training)"
   ],
   "metadata": {
    "collapsed": false,
    "pycharm": {
     "name": "#%%\n"
    }
   }
  },
  {
   "cell_type": "code",
   "execution_count": 24,
   "outputs": [
    {
     "name": "stdout",
     "output_type": "stream",
     "text": [
      "Best ALS model parameters by CV:\n",
      "-> maxIter: 10\n",
      "-> regParam: 0.1\n",
      "-> rank: 5\n",
      "-> alpha: 0.1\n"
     ]
    }
   ],
   "source": [
    "best_model=cv_model.bestModel\n",
    "best_params=cv_model.getEstimatorParamMaps()[np.argmin(cv_model.avgMetrics)]\n",
    "print('Best ALS model parameters by CV:')\n",
    "for i,j in best_params.items():\n",
    "  print('-> '+i.name+': '+str(j))"
   ],
   "metadata": {
    "collapsed": false,
    "pycharm": {
     "name": "#%%\n"
    }
   }
  },
  {
   "cell_type": "markdown",
   "source": [
    "# model tesing"
   ],
   "metadata": {
    "collapsed": false,
    "pycharm": {
     "name": "#%% md\n"
    }
   }
  },
  {
   "cell_type": "code",
   "execution_count": 25,
   "outputs": [
    {
     "name": "stdout",
     "output_type": "stream",
     "text": [
      "Root-mean-square error for testing data is 0.8801291578802082\n"
     ]
    }
   ],
   "source": [
    "#Generate predictions and evaluate using RMSE\n",
    "prediction_test = best_model.transform(test)\n",
    "rmse_test = evaluator.evaluate(prediction_test)\n",
    "print(\"Root-mean-square error for testing data is \" + str(rmse_test))"
   ],
   "metadata": {
    "collapsed": false,
    "pycharm": {
     "name": "#%%\n"
    }
   }
  },
  {
   "cell_type": "markdown",
   "source": [
    "# qualitative check"
   ],
   "metadata": {
    "collapsed": false,
    "pycharm": {
     "name": "#%% md\n"
    }
   }
  },
  {
   "cell_type": "code",
   "execution_count": 113,
   "outputs": [],
   "source": [
    "# define a function to package the recommendation\n",
    "def top_K_recommend(k, uid, model, data_location=\"D:/py_movie_recommendation_system/data/\"):\n",
    "    \"\"\"\n",
    "    k: the number of movies to recommend\n",
    "    id: the id of the user to give recommendations\n",
    "    model: the trained model for recommendation\n",
    "    \"\"\"\n",
    "    # the table for all top10 recommendations\n",
    "    from pyspark.sql import SparkSession\n",
    "    spark = SparkSession \\\n",
    "        .builder \\\n",
    "        .appName(\"moive analysis\") \\\n",
    "        .config(\"spark.some.config.option\", \"some-value\") \\\n",
    "        .getOrCreate()\n",
    "    movies_df = spark.read.load(data_location + \"movies.csv\", format='csv', header=True)\n",
    "\n",
    "    all_recommend = model.recommendForAllUsers(k)\n",
    "    user_recommend = all_recommend.where(all_recommend.userId == uid).toPandas()\n",
    "    if user_recommend.shape[0] == 0:\n",
    "        print('No user with id ' + str(uid) + ' is found in the data.')\n",
    "        print(\"Would you like to watch most frequently watched movie?\")\n",
    "        ratings_df = spark.read.load(data_location + \"ratings.csv\", format='csv', header=True)\n",
    "        movies_df.registerTempTable(\"movies\")\n",
    "        ratings_df.registerTempTable(\"ratings\")\n",
    "        out = spark.sql(\n",
    "            f\"\"\"\n",
    "            SELECT a.movieId, a.title, a.genres\n",
    "            FROM movies AS a\n",
    "            LEFT JOIN (\n",
    "            SELECT movieId, COUNT(rating) AS rating\n",
    "            FROM ratings\n",
    "            GROUP BY movieId\n",
    "            ) AS b\n",
    "            USING(movieId)\n",
    "            ORDER BY b.rating DESC\n",
    "            LIMIT {k}\n",
    "            \"\"\"\n",
    "        ).toPandas()\n",
    "        return out\n",
    "    user_recommend = user_recommend.iloc[0, 1]\n",
    "    user_recommend = pd.DataFrame(user_recommend, columns=['movieId', 'predicted_ratings'])\n",
    "    temp = None\n",
    "    for i in user_recommend['movieId']:\n",
    "        if not temp:\n",
    "            temp = movies_df.where(movies_df.movieId == str(i))\n",
    "        else:\n",
    "            temp = temp.union(movies_df.where(movies_df.movieId == str(i)))\n",
    "    out = pd.concat([temp.toPandas(), user_recommend['predicted_ratings']], axis=1)\n",
    "    out.index = range(1, k + 1)\n",
    "    return out\n",
    "\n",
    "\n",
    "# cosine similarity\n",
    "# the larger the cosine value, the smaller the two feature vectors' angle, the similar the movies\n",
    "# this similarity considers the direction only,\n",
    "# e.g. movie 1 with factor [1,2,3] and movie 2 with factor [2,4,6] are considered the same\n",
    "def cos_similar(k, mid, best_model, data_location=\"D:/py_movie_recommendation_system/data/\"):\n",
    "    \"\"\"\n",
    "    k: number of similar movies to find\n",
    "    mid: id of the movie to find similarities\n",
    "    \"\"\"\n",
    "    from pyspark.sql import SparkSession\n",
    "    spark = SparkSession \\\n",
    "        .builder \\\n",
    "        .appName(\"moive analysis\") \\\n",
    "        .config(\"spark.some.config.option\", \"some-value\") \\\n",
    "        .getOrCreate()\n",
    "    movies_df = spark.read.load(data_location + \"movies.csv\", format='csv', header=True)\n",
    "    movies_df.registerTempTable(\"movies\")\n",
    "\n",
    "    print(\"We are looking for similar movie of \", spark.sql(\n",
    "        f\"\"\"\n",
    "        SELECT title\n",
    "        FROM movies\n",
    "        WHERE movieId = {mid}\n",
    "        \"\"\"\n",
    "    ).toPandas().iloc[0, 0])\n",
    "\n",
    "    movie_factors = best_model.itemFactors\n",
    "    movie_factors.printSchema()\n",
    "    comd = [\"movie_factors.selectExpr('id as movieId',\"]\n",
    "    for i in range(best_model.rank):\n",
    "        if i < best_model.rank - 1:\n",
    "            comd.append(\"'features[\" + str(i) + \"] as feature\" + str(i) + \"',\")\n",
    "        else:\n",
    "            comd.append(\"'features[\" + str(i) + \"] as feature\" + str(i) + \"'\")\n",
    "    comd.append(')')\n",
    "    movie_factors = eval(''.join(comd))\n",
    "    movie_factors.createOrReplaceTempView('movie_factors')\n",
    "\n",
    "    movie_info = spark.sql(\n",
    "        f\"\"\"\n",
    "        SELECT *\n",
    "        FROM movie_factors\n",
    "        WHERE movieId= {str(mid)}\n",
    "        \"\"\"\n",
    "        ).toPandas()\n",
    "    if movie_info.shape[0] <= 0:\n",
    "        print('No movie with id ' + str(mid) + ' is found in the data.')\n",
    "        return None, None\n",
    "    norm_m = sum(movie_info.iloc[0, 1:].values ** 2) ** 0.5\n",
    "    temp = ['select movieId,']\n",
    "    norm_str = ['sqrt(']\n",
    "    for i in range(best_model.rank):\n",
    "        comd = 'feature' + str(i) + '*' + str(movie_info.iloc[0, i + 1])\n",
    "        temp.append(comd + ' as inner' + str(i) + ',')\n",
    "        if i < best_model.rank - 1:\n",
    "            norm_str.append('feature' + str(i) + '*feature' + str(i) + '+')\n",
    "        else:\n",
    "            norm_str.append('feature' + str(i) + '*feature' + str(i))\n",
    "    norm_str.append(') as norm')\n",
    "    temp.append(''.join(norm_str))\n",
    "    temp.append(' from movie_factors where movieId!=' + str(mid))\n",
    "    inner = spark.sql(' '.join(temp))\n",
    "    inner = inner.selectExpr('movieId',\n",
    "                             '(inner0+inner1+inner2+inner3+inner4)/norm/' + str(norm_m) + ' as innerP').orderBy(\n",
    "        'innerP', ascending=False).limit(k).toPandas()\n",
    "    out = None\n",
    "    for i in inner['movieId']:\n",
    "        if not out:\n",
    "            out = movies_df.where(movies_df.movieId == str(i))\n",
    "        else:\n",
    "            out = out.union(movies_df.where(movies_df.movieId == str(i)))\n",
    "    out = out.toPandas()\n",
    "    out.index = range(1, k + 1)\n",
    "    return out, inner\n",
    "\n",
    "\n",
    "\n",
    "# write a function to make prediction for movie id\n",
    "def similar_movie(k, mid, best_model, data_location=\"D:/py_movie_recommendation_system/data/\"):\n",
    "    out, inner = cos_similar(k, mid, best_model, data_location)\n",
    "    print(out)\n",
    "    if out is None:\n",
    "        print(\"This is a new movie, and we cannot find similar movie only based on it id!\")\n",
    "    return out\n",
    "\n",
    "# write a function to make recommendation\n",
    "def make_recommendation(k, uid, best_model, data_location=\"D:/py_movie_recommendation_system/data/\"):\n",
    "    out = top_K_recommend(k, uid, best_model, data_location)\n",
    "    print(out)\n",
    "    return out"
   ],
   "metadata": {
    "collapsed": false,
    "pycharm": {
     "name": "#%%\n"
    }
   }
  },
  {
   "cell_type": "markdown",
   "source": [
    "## for user"
   ],
   "metadata": {
    "collapsed": false
   }
  },
  {
   "cell_type": "code",
   "execution_count": 94,
   "outputs": [
    {
     "name": "stderr",
     "output_type": "stream",
     "text": [
      "c:\\programming\\python\\lib\\site-packages\\pyspark\\sql\\context.py:125: FutureWarning: Deprecated in 3.0.0. Use SparkSession.builder.getOrCreate() instead.\n",
      "  warnings.warn(\n"
     ]
    },
    {
     "name": "stdout",
     "output_type": "stream",
     "text": [
      "   movieId                                              title  \\\n",
      "1    72171                              Black Dynamite (2009)   \n",
      "2    70946                                     Troll 2 (1990)   \n",
      "3     1696                                        Bent (1997)   \n",
      "4   100714                             Before Midnight (2013)   \n",
      "5    49932                               Inland Empire (2006)   \n",
      "6    68945  Neon Genesis Evangelion: Death & Rebirth (Shin...   \n",
      "7     3379                                On the Beach (1959)   \n",
      "8    59814                                  Ex Drummer (2007)   \n",
      "9    33090                               Mutant Aliens (2001)   \n",
      "10    1279                              Night on Earth (1991)   \n",
      "\n",
      "                             genres  predicted_ratings  \n",
      "1                     Action|Comedy           5.626239  \n",
      "2                    Fantasy|Horror           5.553687  \n",
      "3                         Drama|War           5.413081  \n",
      "4                     Drama|Romance           5.332412  \n",
      "5            Drama|Mystery|Thriller           5.249018  \n",
      "6   Action|Animation|Mystery|Sci-Fi           5.244842  \n",
      "7                             Drama           5.244842  \n",
      "8         Comedy|Crime|Drama|Horror           5.237782  \n",
      "9           Animation|Comedy|Sci-Fi           5.211211  \n",
      "10                     Comedy|Drama           5.210414  \n"
     ]
    }
   ],
   "source": [
    "# user in dataset\n",
    "out = make_recommendation(10, 500, best_model)"
   ],
   "metadata": {
    "collapsed": false,
    "pycharm": {
     "name": "#%%\n"
    }
   }
  },
  {
   "cell_type": "code",
   "execution_count": 96,
   "outputs": [
    {
     "data": {
      "text/plain": "   movieId userId rating   timestamp  \\\n0      176    500    5.0  1005527755   \n1     1175    500    5.0  1005528017   \n2     1282    500    5.0  1005528236   \n3     1747    500    5.0  1005528065   \n4     1784    500    5.0  1005527784   \n..     ...    ...    ...         ...   \n81    1993    500    1.0  1005527364   \n82    2671    500    1.0  1005528078   \n83    3083    500    1.0  1005528017   \n84    3466    500    1.0  1005527926   \n85    4873    500    1.0  1005528205   \n\n                                               title  \\\n0                          Living in Oblivion (1995)   \n1                                Delicatessen (1991)   \n2                                    Fantasia (1940)   \n3                                 Wag the Dog (1997)   \n4                          As Good as It Gets (1997)   \n..                                               ...   \n81                             Child's Play 3 (1991)   \n82                               Notting Hill (1999)   \n83  All About My Mother (Todo sobre mi madre) (1999)   \n84                            Heart and Souls (1993)   \n85                                Waking Life (2001)   \n\n                                genres  \n0                               Comedy  \n1                 Comedy|Drama|Romance  \n2   Animation|Children|Fantasy|Musical  \n3                               Comedy  \n4                 Comedy|Drama|Romance  \n..                                 ...  \n81              Comedy|Horror|Thriller  \n82                      Comedy|Romance  \n83                               Drama  \n84                      Comedy|Fantasy  \n85             Animation|Drama|Fantasy  \n\n[86 rows x 6 columns]",
      "text/html": "<div>\n<style scoped>\n    .dataframe tbody tr th:only-of-type {\n        vertical-align: middle;\n    }\n\n    .dataframe tbody tr th {\n        vertical-align: top;\n    }\n\n    .dataframe thead th {\n        text-align: right;\n    }\n</style>\n<table border=\"1\" class=\"dataframe\">\n  <thead>\n    <tr style=\"text-align: right;\">\n      <th></th>\n      <th>movieId</th>\n      <th>userId</th>\n      <th>rating</th>\n      <th>timestamp</th>\n      <th>title</th>\n      <th>genres</th>\n    </tr>\n  </thead>\n  <tbody>\n    <tr>\n      <th>0</th>\n      <td>176</td>\n      <td>500</td>\n      <td>5.0</td>\n      <td>1005527755</td>\n      <td>Living in Oblivion (1995)</td>\n      <td>Comedy</td>\n    </tr>\n    <tr>\n      <th>1</th>\n      <td>1175</td>\n      <td>500</td>\n      <td>5.0</td>\n      <td>1005528017</td>\n      <td>Delicatessen (1991)</td>\n      <td>Comedy|Drama|Romance</td>\n    </tr>\n    <tr>\n      <th>2</th>\n      <td>1282</td>\n      <td>500</td>\n      <td>5.0</td>\n      <td>1005528236</td>\n      <td>Fantasia (1940)</td>\n      <td>Animation|Children|Fantasy|Musical</td>\n    </tr>\n    <tr>\n      <th>3</th>\n      <td>1747</td>\n      <td>500</td>\n      <td>5.0</td>\n      <td>1005528065</td>\n      <td>Wag the Dog (1997)</td>\n      <td>Comedy</td>\n    </tr>\n    <tr>\n      <th>4</th>\n      <td>1784</td>\n      <td>500</td>\n      <td>5.0</td>\n      <td>1005527784</td>\n      <td>As Good as It Gets (1997)</td>\n      <td>Comedy|Drama|Romance</td>\n    </tr>\n    <tr>\n      <th>...</th>\n      <td>...</td>\n      <td>...</td>\n      <td>...</td>\n      <td>...</td>\n      <td>...</td>\n      <td>...</td>\n    </tr>\n    <tr>\n      <th>81</th>\n      <td>1993</td>\n      <td>500</td>\n      <td>1.0</td>\n      <td>1005527364</td>\n      <td>Child's Play 3 (1991)</td>\n      <td>Comedy|Horror|Thriller</td>\n    </tr>\n    <tr>\n      <th>82</th>\n      <td>2671</td>\n      <td>500</td>\n      <td>1.0</td>\n      <td>1005528078</td>\n      <td>Notting Hill (1999)</td>\n      <td>Comedy|Romance</td>\n    </tr>\n    <tr>\n      <th>83</th>\n      <td>3083</td>\n      <td>500</td>\n      <td>1.0</td>\n      <td>1005528017</td>\n      <td>All About My Mother (Todo sobre mi madre) (1999)</td>\n      <td>Drama</td>\n    </tr>\n    <tr>\n      <th>84</th>\n      <td>3466</td>\n      <td>500</td>\n      <td>1.0</td>\n      <td>1005527926</td>\n      <td>Heart and Souls (1993)</td>\n      <td>Comedy|Fantasy</td>\n    </tr>\n    <tr>\n      <th>85</th>\n      <td>4873</td>\n      <td>500</td>\n      <td>1.0</td>\n      <td>1005528205</td>\n      <td>Waking Life (2001)</td>\n      <td>Animation|Drama|Fantasy</td>\n    </tr>\n  </tbody>\n</table>\n<p>86 rows × 6 columns</p>\n</div>"
     },
     "execution_count": 96,
     "metadata": {},
     "output_type": "execute_result"
    }
   ],
   "source": [
    "spark.sql(\n",
    "    \"\"\"\n",
    "    SELECT *\n",
    "    FROM ratings as r\n",
    "    LEFT JOIN movies as m\n",
    "    USING(movieId)\n",
    "    WHERE r.userId = 500\n",
    "    ORDER BY r.rating DESC\n",
    "    \"\"\"\n",
    ").toPandas()"
   ],
   "metadata": {
    "collapsed": false,
    "pycharm": {
     "name": "#%%\n"
    }
   }
  },
  {
   "cell_type": "code",
   "execution_count": 75,
   "outputs": [
    {
     "name": "stderr",
     "output_type": "stream",
     "text": [
      "c:\\programming\\python\\lib\\site-packages\\pyspark\\sql\\context.py:125: FutureWarning: Deprecated in 3.0.0. Use SparkSession.builder.getOrCreate() instead.\n",
      "  warnings.warn(\n",
      "c:\\programming\\python\\lib\\site-packages\\pyspark\\sql\\dataframe.py:138: FutureWarning: Deprecated in 2.0, use createOrReplaceTempView instead.\n",
      "  warnings.warn(\n"
     ]
    },
    {
     "name": "stdout",
     "output_type": "stream",
     "text": [
      "No user with id 1111111111111111 is found in the data.\n",
      "Would you like to watch most frequently watched movie?\n",
      "  movieId                                      title  \\\n",
      "0     356                        Forrest Gump (1994)   \n",
      "1     318           Shawshank Redemption, The (1994)   \n",
      "2     296                        Pulp Fiction (1994)   \n",
      "3     593           Silence of the Lambs, The (1991)   \n",
      "4    2571                         Matrix, The (1999)   \n",
      "5     260  Star Wars: Episode IV - A New Hope (1977)   \n",
      "6     480                       Jurassic Park (1993)   \n",
      "7     110                          Braveheart (1995)   \n",
      "8     589          Terminator 2: Judgment Day (1991)   \n",
      "9     527                    Schindler's List (1993)   \n",
      "\n",
      "                             genres  \n",
      "0          Comedy|Drama|Romance|War  \n",
      "1                       Crime|Drama  \n",
      "2       Comedy|Crime|Drama|Thriller  \n",
      "3             Crime|Horror|Thriller  \n",
      "4            Action|Sci-Fi|Thriller  \n",
      "5           Action|Adventure|Sci-Fi  \n",
      "6  Action|Adventure|Sci-Fi|Thriller  \n",
      "7                  Action|Drama|War  \n",
      "8                     Action|Sci-Fi  \n",
      "9                         Drama|War  \n"
     ]
    }
   ],
   "source": [
    "out = make_recommendation(10, 1111111111111111, best_model)"
   ],
   "metadata": {
    "collapsed": false,
    "pycharm": {
     "name": "#%%\n"
    }
   }
  },
  {
   "cell_type": "markdown",
   "source": [
    "## for movie"
   ],
   "metadata": {
    "collapsed": false
   }
  },
  {
   "cell_type": "code",
   "execution_count": 115,
   "outputs": [
    {
     "name": "stderr",
     "output_type": "stream",
     "text": [
      "c:\\programming\\python\\lib\\site-packages\\pyspark\\sql\\dataframe.py:138: FutureWarning: Deprecated in 2.0, use createOrReplaceTempView instead.\n",
      "  warnings.warn(\n",
      "c:\\programming\\python\\lib\\site-packages\\pyspark\\sql\\context.py:125: FutureWarning: Deprecated in 3.0.0. Use SparkSession.builder.getOrCreate() instead.\n",
      "  warnings.warn(\n"
     ]
    },
    {
     "name": "stdout",
     "output_type": "stream",
     "text": [
      "We are looking for similar movie of  Godfather, The (1972)\n",
      "root\n",
      " |-- id: integer (nullable = false)\n",
      " |-- features: array (nullable = true)\n",
      " |    |-- element: float (containsNull = false)\n",
      "\n",
      "   movieId                                   title  \\\n",
      "1    30848      Love Song for Bobby Long, A (2004)   \n",
      "2     6215                    Laurel Canyon (2002)   \n",
      "3    60941         Midnight Meat Train, The (2008)   \n",
      "4      903                          Vertigo (1958)   \n",
      "5      541                     Blade Runner (1982)   \n",
      "6     7056                Public Enemy, The (1931)   \n",
      "7       50              Usual Suspects, The (1995)   \n",
      "8     1213                       Goodfellas (1990)   \n",
      "9     1221          Godfather: Part II, The (1974)   \n",
      "10    3529  Postman Always Rings Twice, The (1981)   \n",
      "\n",
      "                            genres  \n",
      "1                            Drama  \n",
      "2                            Drama  \n",
      "3          Horror|Mystery|Thriller  \n",
      "4   Drama|Mystery|Romance|Thriller  \n",
      "5           Action|Sci-Fi|Thriller  \n",
      "6               Action|Crime|Drama  \n",
      "7           Crime|Mystery|Thriller  \n",
      "8                      Crime|Drama  \n",
      "9                      Crime|Drama  \n",
      "10                  Crime|Thriller  \n"
     ]
    }
   ],
   "source": [
    "# movie in the dataset\n",
    "out = similar_movie(10, 858, best_model)"
   ],
   "metadata": {
    "collapsed": false,
    "pycharm": {
     "name": "#%%\n"
    }
   }
  },
  {
   "cell_type": "code",
   "execution_count": 99,
   "outputs": [
    {
     "name": "stdout",
     "output_type": "stream",
     "text": [
      "root\n",
      " |-- id: integer (nullable = false)\n",
      " |-- features: array (nullable = true)\n",
      " |    |-- element: float (containsNull = false)\n",
      "\n",
      "No movie with id 111111111 is found in the data.\n",
      "None\n",
      "This is a new movie, and we cannot find similar movie only based on it id!\n"
     ]
    },
    {
     "name": "stderr",
     "output_type": "stream",
     "text": [
      "c:\\programming\\python\\lib\\site-packages\\pyspark\\sql\\context.py:125: FutureWarning: Deprecated in 3.0.0. Use SparkSession.builder.getOrCreate() instead.\n",
      "  warnings.warn(\n"
     ]
    }
   ],
   "source": [
    "# movie not in dataset\n",
    "out = similar_movie(10, 111111111, best_model)"
   ],
   "metadata": {
    "collapsed": false,
    "pycharm": {
     "name": "#%%\n"
    }
   }
  }
 ],
 "metadata": {
  "kernelspec": {
   "display_name": "Python 3",
   "language": "python",
   "name": "python3"
  },
  "language_info": {
   "codemirror_mode": {
    "name": "ipython",
    "version": 2
   },
   "file_extension": ".py",
   "mimetype": "text/x-python",
   "name": "python",
   "nbconvert_exporter": "python",
   "pygments_lexer": "ipython2",
   "version": "2.7.6"
  }
 },
 "nbformat": 4,
 "nbformat_minor": 0
}