{
 "cells": [
  {
   "cell_type": "markdown",
   "source": [
    "# setup packages and load data"
   ],
   "metadata": {
    "collapsed": false
   }
  },
  {
   "cell_type": "code",
   "execution_count": 1,
   "metadata": {
    "collapsed": true
   },
   "outputs": [],
   "source": [
    "import numpy as np\n",
    "import pandas as pd"
   ]
  },
  {
   "cell_type": "code",
   "execution_count": 2,
   "outputs": [],
   "source": [
    "location = \"D:/py_movie_recommendation_system/data/\"\n",
    "movies_df = pd.read_csv(location+\"movies.csv\")\n",
    "ratings_df = pd.read_csv(location+\"ratings.csv\")\n",
    "links_df = pd.read_csv(location+\"links.csv\")\n",
    "tags_df = pd.read_csv(location+\"tags.csv\")"
   ],
   "metadata": {
    "collapsed": false,
    "pycharm": {
     "name": "#%%\n"
    }
   }
  },
  {
   "cell_type": "markdown",
   "source": [
    "# data preprocessing"
   ],
   "metadata": {
    "collapsed": false,
    "pycharm": {
     "name": "#%% md\n"
    }
   }
  },
  {
   "cell_type": "code",
   "execution_count": 3,
   "outputs": [],
   "source": [
    "# drop useless column\n",
    "movie_ratings=ratings_df.drop('timestamp', axis=1)"
   ],
   "metadata": {
    "collapsed": false,
    "pycharm": {
     "name": "#%%\n"
    }
   }
  },
  {
   "cell_type": "code",
   "execution_count": 4,
   "outputs": [
    {
     "data": {
      "text/plain": "   userId  movieId  rating\n0       1        1     4.0\n1       1        3     4.0\n2       1        6     4.0\n3       1       47     5.0\n4       1       50     5.0",
      "text/html": "<div>\n<style scoped>\n    .dataframe tbody tr th:only-of-type {\n        vertical-align: middle;\n    }\n\n    .dataframe tbody tr th {\n        vertical-align: top;\n    }\n\n    .dataframe thead th {\n        text-align: right;\n    }\n</style>\n<table border=\"1\" class=\"dataframe\">\n  <thead>\n    <tr style=\"text-align: right;\">\n      <th></th>\n      <th>userId</th>\n      <th>movieId</th>\n      <th>rating</th>\n    </tr>\n  </thead>\n  <tbody>\n    <tr>\n      <th>0</th>\n      <td>1</td>\n      <td>1</td>\n      <td>4.0</td>\n    </tr>\n    <tr>\n      <th>1</th>\n      <td>1</td>\n      <td>3</td>\n      <td>4.0</td>\n    </tr>\n    <tr>\n      <th>2</th>\n      <td>1</td>\n      <td>6</td>\n      <td>4.0</td>\n    </tr>\n    <tr>\n      <th>3</th>\n      <td>1</td>\n      <td>47</td>\n      <td>5.0</td>\n    </tr>\n    <tr>\n      <th>4</th>\n      <td>1</td>\n      <td>50</td>\n      <td>5.0</td>\n    </tr>\n  </tbody>\n</table>\n</div>"
     },
     "execution_count": 4,
     "metadata": {},
     "output_type": "execute_result"
    }
   ],
   "source": [
    "movie_ratings.head()"
   ],
   "metadata": {
    "collapsed": false,
    "pycharm": {
     "name": "#%%\n"
    }
   }
  },
  {
   "cell_type": "code",
   "execution_count": 5,
   "outputs": [],
   "source": [
    "# convert data type\n",
    "user_movie = movie_ratings[[\"userId\", \"movieId\"]].astype(int)\n",
    "rating = movie_ratings[\"rating\"].astype(float)\n",
    "movie_ratings = pd.concat([user_movie, rating], axis=1)"
   ],
   "metadata": {
    "collapsed": false,
    "pycharm": {
     "name": "#%%\n"
    }
   }
  },
  {
   "cell_type": "code",
   "execution_count": 6,
   "outputs": [
    {
     "data": {
      "text/plain": "   userId  movieId  rating\n0       1        1     4.0\n1       1        3     4.0\n2       1        6     4.0\n3       1       47     5.0\n4       1       50     5.0",
      "text/html": "<div>\n<style scoped>\n    .dataframe tbody tr th:only-of-type {\n        vertical-align: middle;\n    }\n\n    .dataframe tbody tr th {\n        vertical-align: top;\n    }\n\n    .dataframe thead th {\n        text-align: right;\n    }\n</style>\n<table border=\"1\" class=\"dataframe\">\n  <thead>\n    <tr style=\"text-align: right;\">\n      <th></th>\n      <th>userId</th>\n      <th>movieId</th>\n      <th>rating</th>\n    </tr>\n  </thead>\n  <tbody>\n    <tr>\n      <th>0</th>\n      <td>1</td>\n      <td>1</td>\n      <td>4.0</td>\n    </tr>\n    <tr>\n      <th>1</th>\n      <td>1</td>\n      <td>3</td>\n      <td>4.0</td>\n    </tr>\n    <tr>\n      <th>2</th>\n      <td>1</td>\n      <td>6</td>\n      <td>4.0</td>\n    </tr>\n    <tr>\n      <th>3</th>\n      <td>1</td>\n      <td>47</td>\n      <td>5.0</td>\n    </tr>\n    <tr>\n      <th>4</th>\n      <td>1</td>\n      <td>50</td>\n      <td>5.0</td>\n    </tr>\n  </tbody>\n</table>\n</div>"
     },
     "execution_count": 6,
     "metadata": {},
     "output_type": "execute_result"
    }
   ],
   "source": [
    "movie_ratings.head()"
   ],
   "metadata": {
    "collapsed": false,
    "pycharm": {
     "name": "#%%\n"
    }
   }
  },
  {
   "cell_type": "markdown",
   "source": [
    "# train test split"
   ],
   "metadata": {
    "collapsed": false,
    "pycharm": {
     "name": "#%% md\n"
    }
   }
  },
  {
   "cell_type": "code",
   "execution_count": 7,
   "outputs": [],
   "source": [
    "from surprise import Reader, Dataset\n",
    "from surprise.model_selection import train_test_split\n",
    "# put data into surprise dataset which is acceptable by surprise model\n",
    "reader = Reader()\n",
    "data = Dataset.load_from_df(movie_ratings[[\"userId\", \"movieId\", \"rating\"]], reader)"
   ],
   "metadata": {
    "collapsed": false,
    "pycharm": {
     "name": "#%%\n"
    }
   }
  },
  {
   "cell_type": "code",
   "execution_count": 8,
   "outputs": [],
   "source": [
    "train, test = train_test_split(data, test_size=0.2)"
   ],
   "metadata": {
    "collapsed": false,
    "pycharm": {
     "name": "#%%\n"
    }
   }
  },
  {
   "cell_type": "markdown",
   "source": [
    "# define and tune model"
   ],
   "metadata": {
    "collapsed": false,
    "pycharm": {
     "name": "#%% md\n"
    }
   }
  },
  {
   "cell_type": "code",
   "execution_count": 9,
   "outputs": [],
   "source": [
    "from surprise import SVD\n",
    "from surprise.model_selection import GridSearchCV\n",
    "# build a grid of parameters\n",
    "param_grid = {'n_factors': [25, 50, 100],'n_epochs': [10, 20, 30], 'lr_all': [0.001, 0.005, 0.01],'reg_all':[0.005, 0.001, 0.05]}\n",
    "# build a 5-fold cv\n",
    "gscv = GridSearchCV(SVD, param_grid, measures=[\"rmse\"], cv=5)\n",
    "gscv.fit(data)"
   ],
   "metadata": {
    "collapsed": false,
    "pycharm": {
     "name": "#%%\n"
    }
   }
  },
  {
   "cell_type": "code",
   "execution_count": 10,
   "outputs": [],
   "source": [
    "# get the best model parameters and build the best model\n",
    "params = gscv.best_params['rmse']\n",
    "svd = SVD(n_factors=params['n_factors'], n_epochs=params['n_epochs'],lr_all=params['lr_all'], reg_all=params['reg_all'])"
   ],
   "metadata": {
    "collapsed": false,
    "pycharm": {
     "name": "#%%\n"
    }
   }
  },
  {
   "cell_type": "markdown",
   "source": [
    "# test best model"
   ],
   "metadata": {
    "collapsed": false,
    "pycharm": {
     "name": "#%% md\n"
    }
   }
  },
  {
   "cell_type": "code",
   "execution_count": 11,
   "outputs": [
    {
     "name": "stdout",
     "output_type": "stream",
     "text": [
      "RMSE: 0.8570\n"
     ]
    },
    {
     "data": {
      "text/plain": "0.8570449302705279"
     },
     "execution_count": 11,
     "metadata": {},
     "output_type": "execute_result"
    }
   ],
   "source": [
    "# get the rmse score\n",
    "from surprise import accuracy\n",
    "predictions = svd.fit(train).test(test)\n",
    "accuracy.rmse(predictions, verbose=True)"
   ],
   "metadata": {
    "collapsed": false,
    "pycharm": {
     "name": "#%%\n"
    }
   }
  },
  {
   "cell_type": "code",
   "execution_count": 12,
   "outputs": [],
   "source": [
    "# save model\n",
    "from surprise import dump\n",
    "dump.dump(\"D:/py_movie_recommendation_system/EDA&Model/svd\", algo=svd)"
   ],
   "metadata": {
    "collapsed": false,
    "pycharm": {
     "name": "#%%\n"
    }
   }
  },
  {
   "cell_type": "markdown",
   "source": [
    "# qualitative check"
   ],
   "metadata": {
    "collapsed": false,
    "pycharm": {
     "name": "#%% md\n"
    }
   }
  },
  {
   "cell_type": "code",
   "execution_count": 13,
   "outputs": [],
   "source": [
    "# get recommendation for user\n",
    "def get_top_n(best_model, uid, n=10, location=\"D:/py_movie_recommendation_system/data/\"):\n",
    "    movies_df = pd.read_csv(location+\"movies.csv\")\n",
    "    ratings_df = pd.read_csv(location+\"ratings.csv\").drop(\"timestamp\", axis=1)\n",
    "    users = list(ratings_df.userId.unique())\n",
    "    if uid not in users:\n",
    "        print(f\"user {uid} is not in the database.\")\n",
    "        print(\"Here are the top reviewed movies:\")\n",
    "        top = ratings_df[[\"movieId\", \"rating\"]].groupby(\"movieId\").count().reset_index().sort_values(\"rating\", ascending=False).reset_index(drop=True).drop(\"rating\", axis=1)\n",
    "        all_top = pd.merge(top, movies_df, left_on=\"movieId\", right_on=\"movieId\").drop(\"movieId\", axis=1)\n",
    "        recommendation = all_top.head(n).reset_index(drop=True)\n",
    "        print(recommendation)\n",
    "        return recommendation\n",
    "    movies_df[\"estimate_rating\"] = movies_df[\"movieId\"].apply(lambda x: best_model.predict(uid, x).est)\n",
    "    user_recommendation = movies_df.drop(\"movieId\", axis=1)\n",
    "    user_recommendation = user_recommendation.sort_values(\"estimate_rating\", ascending=False)\n",
    "    recommendation = user_recommendation.head(n).reset_index(drop=True)\n",
    "    print(recommendation)\n",
    "    return recommendation"
   ],
   "metadata": {
    "collapsed": false,
    "pycharm": {
     "name": "#%%\n"
    }
   }
  },
  {
   "cell_type": "code",
   "execution_count": 14,
   "outputs": [
    {
     "name": "stdout",
     "output_type": "stream",
     "text": [
      "                                               title  \\\n",
      "0                      Day of the Doctor, The (2013)   \n",
      "1        Wallace & Gromit: The Wrong Trousers (1993)   \n",
      "2  Wallace & Gromit: The Best of Aardman Animatio...   \n",
      "3                              Never Cry Wolf (1983)   \n",
      "4                                    Superbad (2007)   \n",
      "5    Grand Day Out with Wallace and Gromit, A (1989)   \n",
      "6                           Captain Fantastic (2016)   \n",
      "7  Neon Genesis Evangelion: The End of Evangelion...   \n",
      "8                     Godfather: Part II, The (1974)   \n",
      "9                            Funny Games U.S. (2007)   \n",
      "\n",
      "                                       genres  estimate_rating  \n",
      "0                      Adventure|Drama|Sci-Fi              5.0  \n",
      "1             Animation|Children|Comedy|Crime              5.0  \n",
      "2                  Adventure|Animation|Comedy              5.0  \n",
      "3                             Adventure|Drama              5.0  \n",
      "4                                      Comedy              5.0  \n",
      "5  Adventure|Animation|Children|Comedy|Sci-Fi              5.0  \n",
      "6                                       Drama              5.0  \n",
      "7       Action|Animation|Drama|Fantasy|Sci-Fi              5.0  \n",
      "8                                 Crime|Drama              5.0  \n",
      "9                              Drama|Thriller              5.0  \n"
     ]
    },
    {
     "data": {
      "text/plain": "                                               title  \\\n0                      Day of the Doctor, The (2013)   \n1        Wallace & Gromit: The Wrong Trousers (1993)   \n2  Wallace & Gromit: The Best of Aardman Animatio...   \n3                              Never Cry Wolf (1983)   \n4                                    Superbad (2007)   \n5    Grand Day Out with Wallace and Gromit, A (1989)   \n6                           Captain Fantastic (2016)   \n7  Neon Genesis Evangelion: The End of Evangelion...   \n8                     Godfather: Part II, The (1974)   \n9                            Funny Games U.S. (2007)   \n\n                                       genres  estimate_rating  \n0                      Adventure|Drama|Sci-Fi              5.0  \n1             Animation|Children|Comedy|Crime              5.0  \n2                  Adventure|Animation|Comedy              5.0  \n3                             Adventure|Drama              5.0  \n4                                      Comedy              5.0  \n5  Adventure|Animation|Children|Comedy|Sci-Fi              5.0  \n6                                       Drama              5.0  \n7       Action|Animation|Drama|Fantasy|Sci-Fi              5.0  \n8                                 Crime|Drama              5.0  \n9                              Drama|Thriller              5.0  ",
      "text/html": "<div>\n<style scoped>\n    .dataframe tbody tr th:only-of-type {\n        vertical-align: middle;\n    }\n\n    .dataframe tbody tr th {\n        vertical-align: top;\n    }\n\n    .dataframe thead th {\n        text-align: right;\n    }\n</style>\n<table border=\"1\" class=\"dataframe\">\n  <thead>\n    <tr style=\"text-align: right;\">\n      <th></th>\n      <th>title</th>\n      <th>genres</th>\n      <th>estimate_rating</th>\n    </tr>\n  </thead>\n  <tbody>\n    <tr>\n      <th>0</th>\n      <td>Day of the Doctor, The (2013)</td>\n      <td>Adventure|Drama|Sci-Fi</td>\n      <td>5.0</td>\n    </tr>\n    <tr>\n      <th>1</th>\n      <td>Wallace &amp; Gromit: The Wrong Trousers (1993)</td>\n      <td>Animation|Children|Comedy|Crime</td>\n      <td>5.0</td>\n    </tr>\n    <tr>\n      <th>2</th>\n      <td>Wallace &amp; Gromit: The Best of Aardman Animatio...</td>\n      <td>Adventure|Animation|Comedy</td>\n      <td>5.0</td>\n    </tr>\n    <tr>\n      <th>3</th>\n      <td>Never Cry Wolf (1983)</td>\n      <td>Adventure|Drama</td>\n      <td>5.0</td>\n    </tr>\n    <tr>\n      <th>4</th>\n      <td>Superbad (2007)</td>\n      <td>Comedy</td>\n      <td>5.0</td>\n    </tr>\n    <tr>\n      <th>5</th>\n      <td>Grand Day Out with Wallace and Gromit, A (1989)</td>\n      <td>Adventure|Animation|Children|Comedy|Sci-Fi</td>\n      <td>5.0</td>\n    </tr>\n    <tr>\n      <th>6</th>\n      <td>Captain Fantastic (2016)</td>\n      <td>Drama</td>\n      <td>5.0</td>\n    </tr>\n    <tr>\n      <th>7</th>\n      <td>Neon Genesis Evangelion: The End of Evangelion...</td>\n      <td>Action|Animation|Drama|Fantasy|Sci-Fi</td>\n      <td>5.0</td>\n    </tr>\n    <tr>\n      <th>8</th>\n      <td>Godfather: Part II, The (1974)</td>\n      <td>Crime|Drama</td>\n      <td>5.0</td>\n    </tr>\n    <tr>\n      <th>9</th>\n      <td>Funny Games U.S. (2007)</td>\n      <td>Drama|Thriller</td>\n      <td>5.0</td>\n    </tr>\n  </tbody>\n</table>\n</div>"
     },
     "execution_count": 14,
     "metadata": {},
     "output_type": "execute_result"
    }
   ],
   "source": [
    "# for known user\n",
    "get_top_n(svd, 1, 10)"
   ],
   "metadata": {
    "collapsed": false,
    "pycharm": {
     "name": "#%%\n"
    }
   }
  },
  {
   "cell_type": "code",
   "execution_count": 15,
   "outputs": [
    {
     "name": "stdout",
     "output_type": "stream",
     "text": [
      "user 1111111 is not in the database.\n",
      "Here are the top reviewed movies:\n",
      "                                       title                            genres\n",
      "0                        Forrest Gump (1994)          Comedy|Drama|Romance|War\n",
      "1           Shawshank Redemption, The (1994)                       Crime|Drama\n",
      "2                        Pulp Fiction (1994)       Comedy|Crime|Drama|Thriller\n",
      "3           Silence of the Lambs, The (1991)             Crime|Horror|Thriller\n",
      "4                         Matrix, The (1999)            Action|Sci-Fi|Thriller\n",
      "5  Star Wars: Episode IV - A New Hope (1977)           Action|Adventure|Sci-Fi\n",
      "6                       Jurassic Park (1993)  Action|Adventure|Sci-Fi|Thriller\n",
      "7                          Braveheart (1995)                  Action|Drama|War\n",
      "8          Terminator 2: Judgment Day (1991)                     Action|Sci-Fi\n",
      "9                    Schindler's List (1993)                         Drama|War\n"
     ]
    },
    {
     "data": {
      "text/plain": "                                       title                            genres\n0                        Forrest Gump (1994)          Comedy|Drama|Romance|War\n1           Shawshank Redemption, The (1994)                       Crime|Drama\n2                        Pulp Fiction (1994)       Comedy|Crime|Drama|Thriller\n3           Silence of the Lambs, The (1991)             Crime|Horror|Thriller\n4                         Matrix, The (1999)            Action|Sci-Fi|Thriller\n5  Star Wars: Episode IV - A New Hope (1977)           Action|Adventure|Sci-Fi\n6                       Jurassic Park (1993)  Action|Adventure|Sci-Fi|Thriller\n7                          Braveheart (1995)                  Action|Drama|War\n8          Terminator 2: Judgment Day (1991)                     Action|Sci-Fi\n9                    Schindler's List (1993)                         Drama|War",
      "text/html": "<div>\n<style scoped>\n    .dataframe tbody tr th:only-of-type {\n        vertical-align: middle;\n    }\n\n    .dataframe tbody tr th {\n        vertical-align: top;\n    }\n\n    .dataframe thead th {\n        text-align: right;\n    }\n</style>\n<table border=\"1\" class=\"dataframe\">\n  <thead>\n    <tr style=\"text-align: right;\">\n      <th></th>\n      <th>title</th>\n      <th>genres</th>\n    </tr>\n  </thead>\n  <tbody>\n    <tr>\n      <th>0</th>\n      <td>Forrest Gump (1994)</td>\n      <td>Comedy|Drama|Romance|War</td>\n    </tr>\n    <tr>\n      <th>1</th>\n      <td>Shawshank Redemption, The (1994)</td>\n      <td>Crime|Drama</td>\n    </tr>\n    <tr>\n      <th>2</th>\n      <td>Pulp Fiction (1994)</td>\n      <td>Comedy|Crime|Drama|Thriller</td>\n    </tr>\n    <tr>\n      <th>3</th>\n      <td>Silence of the Lambs, The (1991)</td>\n      <td>Crime|Horror|Thriller</td>\n    </tr>\n    <tr>\n      <th>4</th>\n      <td>Matrix, The (1999)</td>\n      <td>Action|Sci-Fi|Thriller</td>\n    </tr>\n    <tr>\n      <th>5</th>\n      <td>Star Wars: Episode IV - A New Hope (1977)</td>\n      <td>Action|Adventure|Sci-Fi</td>\n    </tr>\n    <tr>\n      <th>6</th>\n      <td>Jurassic Park (1993)</td>\n      <td>Action|Adventure|Sci-Fi|Thriller</td>\n    </tr>\n    <tr>\n      <th>7</th>\n      <td>Braveheart (1995)</td>\n      <td>Action|Drama|War</td>\n    </tr>\n    <tr>\n      <th>8</th>\n      <td>Terminator 2: Judgment Day (1991)</td>\n      <td>Action|Sci-Fi</td>\n    </tr>\n    <tr>\n      <th>9</th>\n      <td>Schindler's List (1993)</td>\n      <td>Drama|War</td>\n    </tr>\n  </tbody>\n</table>\n</div>"
     },
     "execution_count": 15,
     "metadata": {},
     "output_type": "execute_result"
    }
   ],
   "source": [
    "# for unknown user\n",
    "get_top_n(svd, 1111111, 10)"
   ],
   "metadata": {
    "collapsed": false,
    "pycharm": {
     "name": "#%%\n"
    }
   }
  },
  {
   "cell_type": "code",
   "execution_count": 16,
   "outputs": [],
   "source": [
    "# for movie\n",
    "def recommend(mid, n = 10, location=\"D:/py_movie_recommendation_system/data/\"):\n",
    "    movies_df = pd.read_csv(location+\"movies.csv\")\n",
    "    ratings_df = pd.read_csv(location+\"ratings.csv\").drop(\"timestamp\", axis=1)\n",
    "    movies_list = list(movies_df[\"movieId\"])\n",
    "    if mid not in movies_list:\n",
    "        print(\"This is a new movie and we cannot find similar movie only based on it id.\")\n",
    "        return\n",
    "    print(f\"Top {n} movies recommended based on cosine similarity\")\n",
    "    movies_df_encoding = pd.concat([movies_df[[\"movieId\", \"title\"]], movies_df[\"genres\"].str.get_dummies(sep='|').astype(np.int64)], axis=1)\n",
    "    target_movie = movies_df_encoding[movies_df_encoding[\"movieId\"]==mid].reset_index(drop=True)\n",
    "    other_movie = movies_df_encoding[movies_df_encoding[\"movieId\"]!=mid].reset_index(drop=True)\n",
    "    from scipy import spatial\n",
    "    cosine_result = []\n",
    "    for x in range(other_movie.shape[0]):\n",
    "        other_movie_list = list(other_movie.iloc[x, 2:].apply(int))\n",
    "        target_movie_list = list(target_movie.iloc[0:, 2:].apply(int))\n",
    "        cosine = spatial.distance.cosine(other_movie_list, target_movie_list)\n",
    "        cosine_result.append(cosine)\n",
    "    result_df = pd.DataFrame(cosine_result)\n",
    "    result_df.columns = [\"Cosine\"]\n",
    "    similar_df = pd.concat([other_movie, result_df], axis=1)\n",
    "    similar = pd.merge(similar_df[[\"movieId\", \"title\", \"Cosine\"]], movies_df[[\"movieId\", \"genres\"]], left_on=\"movieId\", right_on=\"movieId\").sort_values(\"Cosine\", ascending=False).drop(\"Cosine\", axis=1).head(n).reset_index(drop=True)\n",
    "    print(similar)\n",
    "    return similar"
   ],
   "metadata": {
    "collapsed": false,
    "pycharm": {
     "name": "#%%\n"
    }
   }
  },
  {
   "cell_type": "code",
   "execution_count": 17,
   "outputs": [
    {
     "name": "stdout",
     "output_type": "stream",
     "text": [
      "Top 10 movies recommended based on Pearsons'R correlation\n",
      "   movieId                                              title  \\\n",
      "0        1                                   Toy Story (1995)   \n",
      "1    27604              Suicide Club (Jisatsu saakuru) (2001)   \n",
      "2    27773                                     Old Boy (2003)   \n",
      "3    27772                           Ju-on: The Grudge (2002)   \n",
      "4    27762                       Comic Book: The Movie (2004)   \n",
      "5    27746                     Ginger Snaps: Unleashed (2004)   \n",
      "6    27731         Cat Returns, The (Neko no ongaeshi) (2002)   \n",
      "7    27706  Lemony Snicket's A Series of Unfortunate Event...   \n",
      "8    27685                           Bring It On Again (2004)   \n",
      "9    27683                Tremors 4: The Legend Begins (2004)   \n",
      "\n",
      "                                         genres  \n",
      "0   Adventure|Animation|Children|Comedy|Fantasy  \n",
      "1                       Horror|Mystery|Thriller  \n",
      "2                              Mystery|Thriller  \n",
      "3                                        Horror  \n",
      "4                                        Comedy  \n",
      "5                               Horror|Thriller  \n",
      "6          Adventure|Animation|Children|Fantasy  \n",
      "7             Adventure|Children|Comedy|Fantasy  \n",
      "8                                        Comedy  \n",
      "9  Action|Comedy|Horror|Sci-Fi|Thriller|Western  \n"
     ]
    },
    {
     "data": {
      "text/plain": "   movieId                                              title  \\\n0        1                                   Toy Story (1995)   \n1    27604              Suicide Club (Jisatsu saakuru) (2001)   \n2    27773                                     Old Boy (2003)   \n3    27772                           Ju-on: The Grudge (2002)   \n4    27762                       Comic Book: The Movie (2004)   \n5    27746                     Ginger Snaps: Unleashed (2004)   \n6    27731         Cat Returns, The (Neko no ongaeshi) (2002)   \n7    27706  Lemony Snicket's A Series of Unfortunate Event...   \n8    27685                           Bring It On Again (2004)   \n9    27683                Tremors 4: The Legend Begins (2004)   \n\n                                         genres  \n0   Adventure|Animation|Children|Comedy|Fantasy  \n1                       Horror|Mystery|Thriller  \n2                              Mystery|Thriller  \n3                                        Horror  \n4                                        Comedy  \n5                               Horror|Thriller  \n6          Adventure|Animation|Children|Fantasy  \n7             Adventure|Children|Comedy|Fantasy  \n8                                        Comedy  \n9  Action|Comedy|Horror|Sci-Fi|Thriller|Western  ",
      "text/html": "<div>\n<style scoped>\n    .dataframe tbody tr th:only-of-type {\n        vertical-align: middle;\n    }\n\n    .dataframe tbody tr th {\n        vertical-align: top;\n    }\n\n    .dataframe thead th {\n        text-align: right;\n    }\n</style>\n<table border=\"1\" class=\"dataframe\">\n  <thead>\n    <tr style=\"text-align: right;\">\n      <th></th>\n      <th>movieId</th>\n      <th>title</th>\n      <th>genres</th>\n    </tr>\n  </thead>\n  <tbody>\n    <tr>\n      <th>0</th>\n      <td>1</td>\n      <td>Toy Story (1995)</td>\n      <td>Adventure|Animation|Children|Comedy|Fantasy</td>\n    </tr>\n    <tr>\n      <th>1</th>\n      <td>27604</td>\n      <td>Suicide Club (Jisatsu saakuru) (2001)</td>\n      <td>Horror|Mystery|Thriller</td>\n    </tr>\n    <tr>\n      <th>2</th>\n      <td>27773</td>\n      <td>Old Boy (2003)</td>\n      <td>Mystery|Thriller</td>\n    </tr>\n    <tr>\n      <th>3</th>\n      <td>27772</td>\n      <td>Ju-on: The Grudge (2002)</td>\n      <td>Horror</td>\n    </tr>\n    <tr>\n      <th>4</th>\n      <td>27762</td>\n      <td>Comic Book: The Movie (2004)</td>\n      <td>Comedy</td>\n    </tr>\n    <tr>\n      <th>5</th>\n      <td>27746</td>\n      <td>Ginger Snaps: Unleashed (2004)</td>\n      <td>Horror|Thriller</td>\n    </tr>\n    <tr>\n      <th>6</th>\n      <td>27731</td>\n      <td>Cat Returns, The (Neko no ongaeshi) (2002)</td>\n      <td>Adventure|Animation|Children|Fantasy</td>\n    </tr>\n    <tr>\n      <th>7</th>\n      <td>27706</td>\n      <td>Lemony Snicket's A Series of Unfortunate Event...</td>\n      <td>Adventure|Children|Comedy|Fantasy</td>\n    </tr>\n    <tr>\n      <th>8</th>\n      <td>27685</td>\n      <td>Bring It On Again (2004)</td>\n      <td>Comedy</td>\n    </tr>\n    <tr>\n      <th>9</th>\n      <td>27683</td>\n      <td>Tremors 4: The Legend Begins (2004)</td>\n      <td>Action|Comedy|Horror|Sci-Fi|Thriller|Western</td>\n    </tr>\n  </tbody>\n</table>\n</div>"
     },
     "execution_count": 17,
     "metadata": {},
     "output_type": "execute_result"
    }
   ],
   "source": [
    "# for known movie\n",
    "recommend(858, 10)"
   ],
   "metadata": {
    "collapsed": false,
    "pycharm": {
     "name": "#%%\n"
    }
   }
  },
  {
   "cell_type": "code",
   "execution_count": 18,
   "outputs": [
    {
     "name": "stdout",
     "output_type": "stream",
     "text": [
      "This is a new movie and we cannot find similar movie only based on it id.\n"
     ]
    }
   ],
   "source": [
    "# for unknown movie\n",
    "recommend(111111111, 10)"
   ],
   "metadata": {
    "collapsed": false,
    "pycharm": {
     "name": "#%%\n"
    }
   }
  },
  {
   "cell_type": "code",
   "execution_count": 18,
   "outputs": [],
   "source": [],
   "metadata": {
    "collapsed": false,
    "pycharm": {
     "name": "#%%\n"
    }
   }
  }
 ],
 "metadata": {
  "kernelspec": {
   "display_name": "Python 3",
   "language": "python",
   "name": "python3"
  },
  "language_info": {
   "codemirror_mode": {
    "name": "ipython",
    "version": 2
   },
   "file_extension": ".py",
   "mimetype": "text/x-python",
   "name": "python",
   "nbconvert_exporter": "python",
   "pygments_lexer": "ipython2",
   "version": "2.7.6"
  }
 },
 "nbformat": 4,
 "nbformat_minor": 0
}