{
 "cells": [
  {
   "cell_type": "markdown",
   "source": [
    "# setup packages and load data"
   ],
   "metadata": {
    "collapsed": false
   }
  },
  {
   "cell_type": "code",
   "execution_count": 1,
   "metadata": {
    "collapsed": true
   },
   "outputs": [],
   "source": [
    "import numpy as np\n",
    "import pandas as pd"
   ]
  },
  {
   "cell_type": "code",
   "execution_count": 2,
   "outputs": [],
   "source": [
    "location = \"D:/py_movie_recommendation_system/data/\"\n",
    "movies_df = pd.read_csv(location+\"movies.csv\")\n",
    "ratings_df = pd.read_csv(location+\"ratings.csv\")\n",
    "links_df = pd.read_csv(location+\"links.csv\")\n",
    "tags_df = pd.read_csv(location+\"tags.csv\")"
   ],
   "metadata": {
    "collapsed": false,
    "pycharm": {
     "name": "#%%\n"
    }
   }
  },
  {
   "cell_type": "markdown",
   "source": [
    "# data preprocessing"
   ],
   "metadata": {
    "collapsed": false,
    "pycharm": {
     "name": "#%% md\n"
    }
   }
  },
  {
   "cell_type": "code",
   "execution_count": 3,
   "outputs": [],
   "source": [
    "# drop useless column\n",
    "movie_ratings=ratings_df.drop('timestamp', axis=1)"
   ],
   "metadata": {
    "collapsed": false,
    "pycharm": {
     "name": "#%%\n"
    }
   }
  },
  {
   "cell_type": "code",
   "execution_count": 4,
   "outputs": [
    {
     "data": {
      "text/plain": "   userId  movieId  rating\n0       1        1     4.0\n1       1        3     4.0\n2       1        6     4.0\n3       1       47     5.0\n4       1       50     5.0",
      "text/html": "<div>\n<style scoped>\n    .dataframe tbody tr th:only-of-type {\n        vertical-align: middle;\n    }\n\n    .dataframe tbody tr th {\n        vertical-align: top;\n    }\n\n    .dataframe thead th {\n        text-align: right;\n    }\n</style>\n<table border=\"1\" class=\"dataframe\">\n  <thead>\n    <tr style=\"text-align: right;\">\n      <th></th>\n      <th>userId</th>\n      <th>movieId</th>\n      <th>rating</th>\n    </tr>\n  </thead>\n  <tbody>\n    <tr>\n      <th>0</th>\n      <td>1</td>\n      <td>1</td>\n      <td>4.0</td>\n    </tr>\n    <tr>\n      <th>1</th>\n      <td>1</td>\n      <td>3</td>\n      <td>4.0</td>\n    </tr>\n    <tr>\n      <th>2</th>\n      <td>1</td>\n      <td>6</td>\n      <td>4.0</td>\n    </tr>\n    <tr>\n      <th>3</th>\n      <td>1</td>\n      <td>47</td>\n      <td>5.0</td>\n    </tr>\n    <tr>\n      <th>4</th>\n      <td>1</td>\n      <td>50</td>\n      <td>5.0</td>\n    </tr>\n  </tbody>\n</table>\n</div>"
     },
     "execution_count": 4,
     "metadata": {},
     "output_type": "execute_result"
    }
   ],
   "source": [
    "movie_ratings.head()"
   ],
   "metadata": {
    "collapsed": false,
    "pycharm": {
     "name": "#%%\n"
    }
   }
  },
  {
   "cell_type": "code",
   "execution_count": 5,
   "outputs": [],
   "source": [
    "# convert data type\n",
    "user_movie = movie_ratings[[\"userId\", \"movieId\"]].astype(int)\n",
    "rating = movie_ratings[\"rating\"].astype(float)\n",
    "movie_ratings = pd.concat([user_movie, rating], axis=1)"
   ],
   "metadata": {
    "collapsed": false,
    "pycharm": {
     "name": "#%%\n"
    }
   }
  },
  {
   "cell_type": "code",
   "execution_count": 6,
   "outputs": [
    {
     "data": {
      "text/plain": "   userId  movieId  rating\n0       1        1     4.0\n1       1        3     4.0\n2       1        6     4.0\n3       1       47     5.0\n4       1       50     5.0",
      "text/html": "<div>\n<style scoped>\n    .dataframe tbody tr th:only-of-type {\n        vertical-align: middle;\n    }\n\n    .dataframe tbody tr th {\n        vertical-align: top;\n    }\n\n    .dataframe thead th {\n        text-align: right;\n    }\n</style>\n<table border=\"1\" class=\"dataframe\">\n  <thead>\n    <tr style=\"text-align: right;\">\n      <th></th>\n      <th>userId</th>\n      <th>movieId</th>\n      <th>rating</th>\n    </tr>\n  </thead>\n  <tbody>\n    <tr>\n      <th>0</th>\n      <td>1</td>\n      <td>1</td>\n      <td>4.0</td>\n    </tr>\n    <tr>\n      <th>1</th>\n      <td>1</td>\n      <td>3</td>\n      <td>4.0</td>\n    </tr>\n    <tr>\n      <th>2</th>\n      <td>1</td>\n      <td>6</td>\n      <td>4.0</td>\n    </tr>\n    <tr>\n      <th>3</th>\n      <td>1</td>\n      <td>47</td>\n      <td>5.0</td>\n    </tr>\n    <tr>\n      <th>4</th>\n      <td>1</td>\n      <td>50</td>\n      <td>5.0</td>\n    </tr>\n  </tbody>\n</table>\n</div>"
     },
     "execution_count": 6,
     "metadata": {},
     "output_type": "execute_result"
    }
   ],
   "source": [
    "movie_ratings.head()"
   ],
   "metadata": {
    "collapsed": false,
    "pycharm": {
     "name": "#%%\n"
    }
   }
  },
  {
   "cell_type": "markdown",
   "source": [
    "# train test split"
   ],
   "metadata": {
    "collapsed": false,
    "pycharm": {
     "name": "#%% md\n"
    }
   }
  },
  {
   "cell_type": "code",
   "execution_count": 29,
   "outputs": [],
   "source": [
    "from surprise import Reader, Dataset\n",
    "from surprise.model_selection import train_test_split\n",
    "reader = Reader()\n",
    "data = Dataset.load_from_df(movie_ratings[[\"userId\", \"movieId\", \"rating\"]], reader)"
   ],
   "metadata": {
    "collapsed": false,
    "pycharm": {
     "name": "#%%\n"
    }
   }
  },
  {
   "cell_type": "code",
   "execution_count": 30,
   "outputs": [],
   "source": [
    "train, test = train_test_split(data, test_size=0.2)"
   ],
   "metadata": {
    "collapsed": false,
    "pycharm": {
     "name": "#%%\n"
    }
   }
  },
  {
   "cell_type": "markdown",
   "source": [
    "# define and tune model"
   ],
   "metadata": {
    "collapsed": false,
    "pycharm": {
     "name": "#%% md\n"
    }
   }
  },
  {
   "cell_type": "code",
   "execution_count": 32,
   "outputs": [],
   "source": [
    "from surprise import SVD\n",
    "from surprise.model_selection import GridSearchCV\n",
    "\n",
    "param_grid = {'n_factors': [25, 50, 100, 150, 200],'n_epochs': [10, 20, 30, 40, 50], 'lr_all': [0.001, 0.005, 0.01, 0.05, 0.1],'reg_all':[0.005, 0.001, 0.05, 0.01, 0.1]}\n",
    "\n",
    "gscv = GridSearchCV(SVD, param_grid, measures=[\"rmse\"], cv=5)\n",
    "gscv.fit(data)"
   ],
   "metadata": {
    "collapsed": false,
    "pycharm": {
     "name": "#%%\n"
    }
   }
  },
  {
   "cell_type": "code",
   "execution_count": 33,
   "outputs": [],
   "source": [
    "params = gscv.best_params['rmse']\n",
    "svd = SVD(n_factors=params['n_factors'], n_epochs=params['n_epochs'],lr_all=params['lr_all'], reg_all=params['reg_all'])"
   ],
   "metadata": {
    "collapsed": false,
    "pycharm": {
     "name": "#%%\n"
    }
   }
  },
  {
   "cell_type": "markdown",
   "source": [
    "# test best model"
   ],
   "metadata": {
    "collapsed": false,
    "pycharm": {
     "name": "#%% md\n"
    }
   }
  },
  {
   "cell_type": "code",
   "execution_count": 34,
   "outputs": [
    {
     "name": "stdout",
     "output_type": "stream",
     "text": [
      "RMSE: 0.8521\n"
     ]
    },
    {
     "data": {
      "text/plain": "0.8521330060166512"
     },
     "execution_count": 34,
     "metadata": {},
     "output_type": "execute_result"
    }
   ],
   "source": [
    "from surprise import accuracy\n",
    "predictions = svd.fit(train).test(test)\n",
    "accuracy.rmse(predictions, verbose=True)"
   ],
   "metadata": {
    "collapsed": false,
    "pycharm": {
     "name": "#%%\n"
    }
   }
  },
  {
   "cell_type": "code",
   "execution_count": 36,
   "outputs": [],
   "source": [
    "# save model\n",
    "from surprise import dump\n",
    "dump.dump(\"D:/py_movie_recommendation_system/EDA&Model/svd\", algo=svd)"
   ],
   "metadata": {
    "collapsed": false,
    "pycharm": {
     "name": "#%%\n"
    }
   }
  },
  {
   "cell_type": "markdown",
   "source": [
    "# qualitative check"
   ],
   "metadata": {
    "collapsed": false,
    "pycharm": {
     "name": "#%% md\n"
    }
   }
  },
  {
   "cell_type": "code",
   "execution_count": 82,
   "outputs": [],
   "source": [
    "# get recommendation for user\n",
    "def get_top_n(best_model, uid, n=10, location=\"D:/py_movie_recommendation_system/data/\"):\n",
    "    movies_df = pd.read_csv(location+\"movies.csv\")\n",
    "    ratings_df = pd.read_csv(location+\"ratings.csv\").drop(\"timestamp\", axis=1)\n",
    "    users = list(ratings_df.userId.unique())\n",
    "    if uid not in users:\n",
    "        print(f\"user {uid} is not in the database.\")\n",
    "        print(\"Here are the top reviewed movies:\")\n",
    "        top = ratings_df[[\"movieId\", \"rating\"]].groupby(\"movieId\").count().reset_index().sort_values(\"rating\", ascending=False).reset_index(drop=True).drop(\"rating\", axis=1)\n",
    "        all_top = pd.merge(top, movies_df, left_on=\"movieId\", right_on=\"movieId\").drop(\"movieId\", axis=1)\n",
    "        recommendation = all_top.head(n).reset_index(drop=True)\n",
    "        print(recommendation)\n",
    "        return recommendation\n",
    "    movies_df[\"estimate_rating\"] = movies_df[\"movieId\"].apply(lambda x: best_model.predict(uid, x).est)\n",
    "    user_recommendation = movies_df.drop(\"movieId\", axis=1)\n",
    "    user_recommendation = user_recommendation.sort_values(\"estimate_rating\", ascending=False)\n",
    "    recommendation = user_recommendation.head(n).reset_index(drop=True)\n",
    "    print(recommendation)\n",
    "    return recommendation"
   ],
   "metadata": {
    "collapsed": false,
    "pycharm": {
     "name": "#%%\n"
    }
   }
  },
  {
   "cell_type": "code",
   "execution_count": 85,
   "outputs": [
    {
     "name": "stdout",
     "output_type": "stream",
     "text": [
      "                                               title  \\\n",
      "0                                         Ran (1985)   \n",
      "1                            Five Easy Pieces (1970)   \n",
      "2                            Band of Brothers (2001)   \n",
      "3                   Shawshank Redemption, The (1994)   \n",
      "4  Man Bites Dog (C'est arrivé près de chez vous)...   \n",
      "5                                Hustler, The (1961)   \n",
      "6                                   Jetée, La (1962)   \n",
      "7                              Secrets & Lies (1996)   \n",
      "8   Three Billboards Outside Ebbing, Missouri (2017)   \n",
      "9                            Harold and Maude (1971)   \n",
      "\n",
      "                        genres  estimate_rating  \n",
      "0                    Drama|War         5.000000  \n",
      "1                        Drama         5.000000  \n",
      "2             Action|Drama|War         5.000000  \n",
      "3                  Crime|Drama         5.000000  \n",
      "4  Comedy|Crime|Drama|Thriller         5.000000  \n",
      "5                        Drama         5.000000  \n",
      "6               Romance|Sci-Fi         5.000000  \n",
      "7                        Drama         5.000000  \n",
      "8                  Crime|Drama         5.000000  \n",
      "9         Comedy|Drama|Romance         4.998473  \n"
     ]
    },
    {
     "data": {
      "text/plain": "                                               title  \\\n0                                         Ran (1985)   \n1                            Five Easy Pieces (1970)   \n2                            Band of Brothers (2001)   \n3                   Shawshank Redemption, The (1994)   \n4  Man Bites Dog (C'est arrivé près de chez vous)...   \n5                                Hustler, The (1961)   \n6                                   Jetée, La (1962)   \n7                              Secrets & Lies (1996)   \n8   Three Billboards Outside Ebbing, Missouri (2017)   \n9                            Harold and Maude (1971)   \n\n                        genres  estimate_rating  \n0                    Drama|War         5.000000  \n1                        Drama         5.000000  \n2             Action|Drama|War         5.000000  \n3                  Crime|Drama         5.000000  \n4  Comedy|Crime|Drama|Thriller         5.000000  \n5                        Drama         5.000000  \n6               Romance|Sci-Fi         5.000000  \n7                        Drama         5.000000  \n8                  Crime|Drama         5.000000  \n9         Comedy|Drama|Romance         4.998473  ",
      "text/html": "<div>\n<style scoped>\n    .dataframe tbody tr th:only-of-type {\n        vertical-align: middle;\n    }\n\n    .dataframe tbody tr th {\n        vertical-align: top;\n    }\n\n    .dataframe thead th {\n        text-align: right;\n    }\n</style>\n<table border=\"1\" class=\"dataframe\">\n  <thead>\n    <tr style=\"text-align: right;\">\n      <th></th>\n      <th>title</th>\n      <th>genres</th>\n      <th>estimate_rating</th>\n    </tr>\n  </thead>\n  <tbody>\n    <tr>\n      <th>0</th>\n      <td>Ran (1985)</td>\n      <td>Drama|War</td>\n      <td>5.000000</td>\n    </tr>\n    <tr>\n      <th>1</th>\n      <td>Five Easy Pieces (1970)</td>\n      <td>Drama</td>\n      <td>5.000000</td>\n    </tr>\n    <tr>\n      <th>2</th>\n      <td>Band of Brothers (2001)</td>\n      <td>Action|Drama|War</td>\n      <td>5.000000</td>\n    </tr>\n    <tr>\n      <th>3</th>\n      <td>Shawshank Redemption, The (1994)</td>\n      <td>Crime|Drama</td>\n      <td>5.000000</td>\n    </tr>\n    <tr>\n      <th>4</th>\n      <td>Man Bites Dog (C'est arrivé près de chez vous)...</td>\n      <td>Comedy|Crime|Drama|Thriller</td>\n      <td>5.000000</td>\n    </tr>\n    <tr>\n      <th>5</th>\n      <td>Hustler, The (1961)</td>\n      <td>Drama</td>\n      <td>5.000000</td>\n    </tr>\n    <tr>\n      <th>6</th>\n      <td>Jetée, La (1962)</td>\n      <td>Romance|Sci-Fi</td>\n      <td>5.000000</td>\n    </tr>\n    <tr>\n      <th>7</th>\n      <td>Secrets &amp; Lies (1996)</td>\n      <td>Drama</td>\n      <td>5.000000</td>\n    </tr>\n    <tr>\n      <th>8</th>\n      <td>Three Billboards Outside Ebbing, Missouri (2017)</td>\n      <td>Crime|Drama</td>\n      <td>5.000000</td>\n    </tr>\n    <tr>\n      <th>9</th>\n      <td>Harold and Maude (1971)</td>\n      <td>Comedy|Drama|Romance</td>\n      <td>4.998473</td>\n    </tr>\n  </tbody>\n</table>\n</div>"
     },
     "execution_count": 85,
     "metadata": {},
     "output_type": "execute_result"
    }
   ],
   "source": [
    "# for known user\n",
    "get_top_n(svd, 1, 10)"
   ],
   "metadata": {
    "collapsed": false,
    "pycharm": {
     "name": "#%%\n"
    }
   }
  },
  {
   "cell_type": "code",
   "execution_count": 86,
   "outputs": [
    {
     "name": "stdout",
     "output_type": "stream",
     "text": [
      "user 1111111 is not in the database.\n",
      "Here are the top reviewed movies:\n",
      "                                       title                            genres\n",
      "0                        Forrest Gump (1994)          Comedy|Drama|Romance|War\n",
      "1           Shawshank Redemption, The (1994)                       Crime|Drama\n",
      "2                        Pulp Fiction (1994)       Comedy|Crime|Drama|Thriller\n",
      "3           Silence of the Lambs, The (1991)             Crime|Horror|Thriller\n",
      "4                         Matrix, The (1999)            Action|Sci-Fi|Thriller\n",
      "5  Star Wars: Episode IV - A New Hope (1977)           Action|Adventure|Sci-Fi\n",
      "6                       Jurassic Park (1993)  Action|Adventure|Sci-Fi|Thriller\n",
      "7                          Braveheart (1995)                  Action|Drama|War\n",
      "8          Terminator 2: Judgment Day (1991)                     Action|Sci-Fi\n",
      "9                    Schindler's List (1993)                         Drama|War\n"
     ]
    },
    {
     "data": {
      "text/plain": "                                       title                            genres\n0                        Forrest Gump (1994)          Comedy|Drama|Romance|War\n1           Shawshank Redemption, The (1994)                       Crime|Drama\n2                        Pulp Fiction (1994)       Comedy|Crime|Drama|Thriller\n3           Silence of the Lambs, The (1991)             Crime|Horror|Thriller\n4                         Matrix, The (1999)            Action|Sci-Fi|Thriller\n5  Star Wars: Episode IV - A New Hope (1977)           Action|Adventure|Sci-Fi\n6                       Jurassic Park (1993)  Action|Adventure|Sci-Fi|Thriller\n7                          Braveheart (1995)                  Action|Drama|War\n8          Terminator 2: Judgment Day (1991)                     Action|Sci-Fi\n9                    Schindler's List (1993)                         Drama|War",
      "text/html": "<div>\n<style scoped>\n    .dataframe tbody tr th:only-of-type {\n        vertical-align: middle;\n    }\n\n    .dataframe tbody tr th {\n        vertical-align: top;\n    }\n\n    .dataframe thead th {\n        text-align: right;\n    }\n</style>\n<table border=\"1\" class=\"dataframe\">\n  <thead>\n    <tr style=\"text-align: right;\">\n      <th></th>\n      <th>title</th>\n      <th>genres</th>\n    </tr>\n  </thead>\n  <tbody>\n    <tr>\n      <th>0</th>\n      <td>Forrest Gump (1994)</td>\n      <td>Comedy|Drama|Romance|War</td>\n    </tr>\n    <tr>\n      <th>1</th>\n      <td>Shawshank Redemption, The (1994)</td>\n      <td>Crime|Drama</td>\n    </tr>\n    <tr>\n      <th>2</th>\n      <td>Pulp Fiction (1994)</td>\n      <td>Comedy|Crime|Drama|Thriller</td>\n    </tr>\n    <tr>\n      <th>3</th>\n      <td>Silence of the Lambs, The (1991)</td>\n      <td>Crime|Horror|Thriller</td>\n    </tr>\n    <tr>\n      <th>4</th>\n      <td>Matrix, The (1999)</td>\n      <td>Action|Sci-Fi|Thriller</td>\n    </tr>\n    <tr>\n      <th>5</th>\n      <td>Star Wars: Episode IV - A New Hope (1977)</td>\n      <td>Action|Adventure|Sci-Fi</td>\n    </tr>\n    <tr>\n      <th>6</th>\n      <td>Jurassic Park (1993)</td>\n      <td>Action|Adventure|Sci-Fi|Thriller</td>\n    </tr>\n    <tr>\n      <th>7</th>\n      <td>Braveheart (1995)</td>\n      <td>Action|Drama|War</td>\n    </tr>\n    <tr>\n      <th>8</th>\n      <td>Terminator 2: Judgment Day (1991)</td>\n      <td>Action|Sci-Fi</td>\n    </tr>\n    <tr>\n      <th>9</th>\n      <td>Schindler's List (1993)</td>\n      <td>Drama|War</td>\n    </tr>\n  </tbody>\n</table>\n</div>"
     },
     "execution_count": 86,
     "metadata": {},
     "output_type": "execute_result"
    }
   ],
   "source": [
    "# for unknown user\n",
    "get_top_n(svd, 1111111, 10)"
   ],
   "metadata": {
    "collapsed": false,
    "pycharm": {
     "name": "#%%\n"
    }
   }
  },
  {
   "cell_type": "code",
   "execution_count": null,
   "outputs": [],
   "source": [
    "#"
   ],
   "metadata": {
    "collapsed": false,
    "pycharm": {
     "name": "#%%\n"
    }
   }
  }
 ],
 "metadata": {
  "kernelspec": {
   "display_name": "Python 3",
   "language": "python",
   "name": "python3"
  },
  "language_info": {
   "codemirror_mode": {
    "name": "ipython",
    "version": 2
   },
   "file_extension": ".py",
   "mimetype": "text/x-python",
   "name": "python",
   "nbconvert_exporter": "python",
   "pygments_lexer": "ipython2",
   "version": "2.7.6"
  }
 },
 "nbformat": 4,
 "nbformat_minor": 0
}